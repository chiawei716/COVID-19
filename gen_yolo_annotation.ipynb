{
 "cells": [
  {
   "cell_type": "code",
   "execution_count": null,
   "metadata": {
    "scrolled": true
   },
   "outputs": [],
   "source": [
    "%cd \"./dataset\""
   ]
  },
  {
   "cell_type": "code",
   "execution_count": null,
   "metadata": {
    "scrolled": false
   },
   "outputs": [],
   "source": [
    "import os\n",
    "import cv2"
   ]
  },
  {
   "cell_type": "code",
   "execution_count": null,
   "metadata": {},
   "outputs": [],
   "source": [
    "%cd \"GGO PNG\"\n",
    "for filename in os.listdir():\n",
    "    \n",
    "    # Read image info\n",
    "    img = cv2.imread(filename)\n",
    "    height, width, channel = img.shape\n",
    "    \n",
    "    # Read label\n",
    "    with open(\"../GGO Label/\" + filename.split('.')[0] + \"_01.txt\", \"r\") as f:\n",
    "        file = open('./' + filename.split('.')[0] + '.txt', 'w')\n",
    "        lines = f.readlines()\n",
    "        # Remove '\\n' & ','\n",
    "        for i in range(len(lines)):\n",
    "            lines[i] = lines[i].split('\\n')[0]\n",
    "            lines[i] = lines[i].split(',')\n",
    "        for i in range(int(len(lines) / 2)):\n",
    "            x = (int(lines[2*i][0]) + (int(lines[2*i+1][0]) - int(lines[2*i][0]))/2)*1.0/width\n",
    "            y = (int(lines[2*i][1]) + (int(lines[2*i+1][1]) - int(lines[2*i][1]))/2)*1.0/height\n",
    "            w = (int(lines[2*i+1][0]) - int(lines[2*i][0]))*1.0/width\n",
    "            h = (int(lines[2*i+1][1]) - int(lines[2*i][1]))*1.0/height\n",
    "            category = (int(lines[i*2][2]) -1)\n",
    "            seq = [str(category) + \" \", str(x) + \" \", str(y) + \" \", str(w) + \" \", str(h) + \"\\n\"]\n",
    "            file.writelines(seq)\n",
    "%cd ..    "
   ]
  },
  {
   "cell_type": "code",
   "execution_count": null,
   "metadata": {},
   "outputs": [],
   "source": [
    "%cd \"LLL PNG\"\n",
    "for filename in os.listdir():\n",
    "    \n",
    "    # Read image info\n",
    "    img = cv2.imread(filename)\n",
    "    height, width, channel = img.shape\n",
    "    \n",
    "    # Read label\n",
    "    with open(\"../LLL Label/\" + filename.split('.')[0] + \"_01.txt\", \"r\") as f:\n",
    "        file = open('./' + filename.split('.')[0] + '.txt', 'w')\n",
    "        lines = f.readlines()\n",
    "        # Remove '\\n' & ','\n",
    "        for i in range(len(lines)):\n",
    "            lines[i] = lines[i].split('\\n')[0]\n",
    "            lines[i] = lines[i].split(',')\n",
    "        for i in range(int(len(lines) / 2)):\n",
    "            x = (int(lines[2*i][0]) + (int(lines[2*i+1][0]) - int(lines[2*i][0]))/2)*1.0/width\n",
    "            y = (int(lines[2*i][1]) + (int(lines[2*i+1][1]) - int(lines[2*i][1]))/2)*1.0/height\n",
    "            w = (int(lines[2*i+1][0]) - int(lines[2*i][0]))*1.0/width\n",
    "            h = (int(lines[2*i+1][1]) - int(lines[2*i][1]))*1.0/height\n",
    "            category = (int(lines[i*2][2]) - 1)\n",
    "            seq = [str(category) + \" \", str(x) + \" \", str(y) + \" \", str(w) + \" \", str(h) + \"\\n\"]\n",
    "            file.writelines(seq)\n",
    "%cd ..    "
   ]
  },
  {
   "cell_type": "code",
   "execution_count": null,
   "metadata": {},
   "outputs": [],
   "source": [
    "%cd \"Pneumonia PNG\"\n",
    "for filename in os.listdir():\n",
    "    \n",
    "    # Read image info\n",
    "    img = cv2.imread(filename)\n",
    "    height, width, channel = img.shape\n",
    "    \n",
    "    # Read label\n",
    "    with open(\"../Pneumonia Label/\" + filename.split('.')[0] + \"_01.txt\", \"r\") as f:\n",
    "        file = open('./' + filename.split('.')[0] + '.txt', 'w')\n",
    "        lines = f.readlines()\n",
    "        # Remove '\\n' & ','\n",
    "        for i in range(len(lines)):\n",
    "            lines[i] = lines[i].split('\\n')[0]\n",
    "            lines[i] = lines[i].split(',')\n",
    "        for i in range(int(len(lines) / 2)):\n",
    "            x = (int(lines[2*i][0]) + (int(lines[2*i+1][0]) - int(lines[2*i][0]))/2)*1.0/width\n",
    "            y = (int(lines[2*i][1]) + (int(lines[2*i+1][1]) - int(lines[2*i][1]))/2)*1.0/height\n",
    "            w = (int(lines[2*i+1][0]) - int(lines[2*i][0]))*1.0/width\n",
    "            h = (int(lines[2*i+1][1]) - int(lines[2*i][1]))*1.0/height\n",
    "            category = (int(lines[i*2][2]) - 1)\n",
    "            seq = [str(category) + \" \", str(x) + \" \", str(y) + \" \", str(w) + \" \", str(h) + \"\\n\"]\n",
    "            file.writelines(seq)\n",
    "%cd ..    "
   ]
  },
  {
   "cell_type": "code",
   "execution_count": null,
   "metadata": {},
   "outputs": [],
   "source": [
    "'''\n",
    "%cd \"Purely_Normal\"\n",
    "for filename in os.listdir():\n",
    "    \n",
    "    # Gen empty label\n",
    "    with open(\"./\" + filename.split('.')[0] + \".txt\", \"w\") as f:\n",
    "        f.close()\n",
    "%cd .. \n",
    "'''"
   ]
  }
 ],
 "metadata": {
  "kernelspec": {
   "display_name": "Python 3",
   "language": "python",
   "name": "python3"
  },
  "language_info": {
   "codemirror_mode": {
    "name": "ipython",
    "version": 3
   },
   "file_extension": ".py",
   "mimetype": "text/x-python",
   "name": "python",
   "nbconvert_exporter": "python",
   "pygments_lexer": "ipython3",
   "version": "3.6.9"
  }
 },
 "nbformat": 4,
 "nbformat_minor": 4
}
