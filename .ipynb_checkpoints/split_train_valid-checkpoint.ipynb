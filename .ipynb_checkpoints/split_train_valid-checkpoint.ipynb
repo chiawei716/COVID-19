{
 "cells": [
  {
   "cell_type": "code",
   "execution_count": null,
   "metadata": {},
   "outputs": [],
   "source": [
    "import os\n",
    "import random"
   ]
  },
  {
   "cell_type": "code",
   "execution_count": null,
   "metadata": {},
   "outputs": [],
   "source": [
    "# Config files\n",
    "!mkdir './darknet/data/COVID-19'\n",
    "train_file = open('./darknet/data/COVID-19/train.txt', 'w')\n",
    "valid_file = open('./darknet/data/COVID-19/valid.txt', 'w')"
   ]
  },
  {
   "cell_type": "code",
   "execution_count": null,
   "metadata": {},
   "outputs": [],
   "source": [
    "# Set split scale\n",
    "split_sc = 0.8"
   ]
  },
  {
   "cell_type": "code",
   "execution_count": null,
   "metadata": {},
   "outputs": [],
   "source": [
    "# Split GGO data\n",
    "\n",
    "DIR = './dataset/GGO PNG/'\n",
    "WD = './data/COVID-19/GGO PNG/'\n",
    "filenames = os.listdir(DIR)\n",
    "num =  len(filenames) / 2\n",
    "\n",
    "count = 0\n",
    "train_num = int(num * split_sc)\n",
    "\n",
    "filenames = random.sample(filenames, len(filenames))\n",
    "for filename in filenames:\n",
    "    if (filename.endswith('png')) & (count < train_num):\n",
    "        train_file.write('%s%s\\n'%(WD, filename))\n",
    "        count = count + 1\n",
    "    elif (filename.endswith('png')) & (count >= train_num):\n",
    "        valid_file.write('%s%s\\n'%(WD, filename))"
   ]
  },
  {
   "cell_type": "code",
   "execution_count": null,
   "metadata": {},
   "outputs": [],
   "source": [
    "# Split LLL data\n",
    "\n",
    "DIR = './dataset/LLL PNG/'\n",
    "WD = './data/COVID-19/LLL PNG/'\n",
    "filenames = os.listdir(DIR)\n",
    "num =  len(filenames) / 2\n",
    "\n",
    "count = 0\n",
    "train_num = int(num * split_sc)\n",
    "\n",
    "filenames = random.sample(filenames, len(filenames))\n",
    "for filename in filenames:\n",
    "    if (filename.endswith('png')) & (count < train_num):\n",
    "        train_file.write('%s%s\\n'%(WD, filename))\n",
    "        count = count + 1\n",
    "    elif (filename.endswith('png')) & (count >= train_num):\n",
    "        valid_file.write('%s%s\\n'%(WD, filename))"
   ]
  },
  {
   "cell_type": "code",
   "execution_count": null,
   "metadata": {},
   "outputs": [],
   "source": [
    "# Split Pneumonia data\n",
    "\n",
    "DIR = './dataset/Pneumonia PNG/'\n",
    "WD = './data/COVID-19/Pneumonia PNG/'\n",
    "filenames = os.listdir(DIR)\n",
    "num =  len(filenames) / 2\n",
    "\n",
    "count = 0\n",
    "train_num = int(num * split_sc)\n",
    "\n",
    "filenames = random.sample(filenames, len(filenames))\n",
    "for filename in filenames:\n",
    "    if (filename.endswith('png')) & (count < train_num):\n",
    "        train_file.write('%s%s\\n'%(WD, filename))\n",
    "        count = count + 1\n",
    "    elif (filename.endswith('png')) & (count >= train_num):\n",
    "        valid_file.write('%s%s\\n'%(WD, filename))"
   ]
  },
  {
   "cell_type": "code",
   "execution_count": null,
   "metadata": {},
   "outputs": [],
   "source": [
    "'''\n",
    "# Split Pure data\n",
    "\n",
    "DIR = './dataset/Purely_Normal/'\n",
    "WD = './data/COVID-19/Purely_Normal/'\n",
    "filenames = os.listdir(DIR)\n",
    "num =  len(filenames) / 2\n",
    "\n",
    "count = 0\n",
    "train_num = int(num * split_sc)\n",
    "\n",
    "filenames = random.sample(filenames, len(filenames))\n",
    "for filename in filenames:\n",
    "    if (filename.endswith('png')) & (count < train_num):\n",
    "        train_file.write('%s%s\\n'%(WD, filename))\n",
    "        count = count + 1\n",
    "    elif (filename.endswith('png')) & (count >= train_num):\n",
    "        valid_file.write('%s%s\\n'%(WD, filename))\n",
    "'''"
   ]
  },
  {
   "cell_type": "code",
   "execution_count": null,
   "metadata": {},
   "outputs": [],
   "source": [
    "# Close files\n",
    "train_file.close()\n",
    "valid_file.close()"
   ]
  },
  {
   "cell_type": "code",
   "execution_count": null,
   "metadata": {},
   "outputs": [],
   "source": [
    "# Read & shuffle train list\n",
    "train_list = []\n",
    "file = open('./darknet/data/COVID-19/train.txt','r+')\n",
    "for line in file:\n",
    "    line = line.strip('\\n')\n",
    "    train_list.append(line)\n",
    "train_list = random.sample(train_list, len(train_list))\n",
    "file.close()\n",
    "\n",
    "# Write file\n",
    "train_file = open('./darknet/data/COVID-19/train.txt','w')\n",
    "for line in train_list:\n",
    "    train_file.write('%s\\n'%(line))\n",
    "train_file.close()"
   ]
  },
  {
   "cell_type": "code",
   "execution_count": null,
   "metadata": {},
   "outputs": [],
   "source": [
    "# Read & shuffle valid list\n",
    "valid_list = []\n",
    "file = open('./darknet/data/COVID-19/valid.txt','r+')\n",
    "for line in file:\n",
    "    line = line.strip('\\n')\n",
    "    valid_list.append(line)\n",
    "valid_list = random.sample(valid_list, len(valid_list))\n",
    "file.close()\n",
    "\n",
    "# Write file\n",
    "valid_file = open('./darknet/data/COVID-19/valid.txt','w')\n",
    "for line in valid_list:\n",
    "    valid_file.write('%s\\n'%(line))\n",
    "valid_file.close()"
   ]
  },
  {
   "cell_type": "code",
   "execution_count": null,
   "metadata": {},
   "outputs": [],
   "source": [
    "# Create COVID19.names\n",
    "file = open('./darknet/data/COVID19.names', 'w')\n",
    "file.write('Pneumonia\\n')\n",
    "file.write('GGO\\n')\n",
    "file.write('LLL\\n')\n",
    "file.close()"
   ]
  },
  {
   "cell_type": "code",
   "execution_count": null,
   "metadata": {},
   "outputs": [],
   "source": [
    "# Create COVID19.data\n",
    "file = open('./darknet/data/COVID19.data', 'w')\n",
    "file.write('classes=3\\n')\n",
    "file.write('train=data/COVID-19/train.txt\\n')\n",
    "file.write('valid=data/COVID-19/valid.txt\\n')\n",
    "file.write('names=data/COVID19  .names\\n')\n",
    "file.write('backup=backup/\\n')\n",
    "file.close()"
   ]
  },
  {
   "cell_type": "code",
   "execution_count": null,
   "metadata": {},
   "outputs": [],
   "source": [
    "!cp -r ./dataset/* ./darknet/data/COVID-19/"
   ]
  }
 ],
 "metadata": {
  "kernelspec": {
   "display_name": "Python 3",
   "language": "python",
   "name": "python3"
  },
  "language_info": {
   "codemirror_mode": {
    "name": "ipython",
    "version": 3
   },
   "file_extension": ".py",
   "mimetype": "text/x-python",
   "name": "python",
   "nbconvert_exporter": "python",
   "pygments_lexer": "ipython3",
   "version": "3.6.9"
  }
 },
 "nbformat": 4,
 "nbformat_minor": 4
}
