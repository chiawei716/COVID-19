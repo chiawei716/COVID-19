{
 "cells": [
  {
   "cell_type": "code",
   "execution_count": null,
   "metadata": {},
   "outputs": [],
   "source": [
    "import os\n",
    "import random"
   ]
  },
  {
   "cell_type": "code",
   "execution_count": null,
   "metadata": {},
   "outputs": [],
   "source": [
    "train_file = open('./darknet/data/COVID-19/train.txt', 'w')\n",
    "valid_file = open('./darknet/data/COVID-19/valid.txt', 'w')"
   ]
  },
  {
   "cell_type": "code",
   "execution_count": null,
   "metadata": {},
   "outputs": [],
   "source": [
    "DIR = './darknet/data/COVID-19/train/'\n",
    "WD = './data/COVID-19/train/'\n",
    "filenames = os.listdir(DIR)\n",
    "num =  len(filenames) / 2\n",
    "\n",
    "filenames = random.sample(filenames, len(filenames))\n",
    "for filename in filenames:\n",
    "    if (filename.endswith('png')):\n",
    "        train_file.write('%s%s\\n'%(WD, filename))\n",
    "train_file.close()"
   ]
  },
  {
   "cell_type": "code",
   "execution_count": null,
   "metadata": {},
   "outputs": [],
   "source": [
    "DIR = './darknet/data/COVID-19/val/'\n",
    "WD = './data/COVID-19/val/'\n",
    "filenames = os.listdir(DIR)\n",
    "num =  len(filenames) / 2\n",
    "\n",
    "filenames = random.sample(filenames, len(filenames))\n",
    "for filename in filenames:\n",
    "    if (filename.endswith('png')):\n",
    "        valid_file.write('%s%s\\n'%(WD, filename))\n",
    "valid_file.close() "
   ]
  },
  {
   "cell_type": "code",
   "execution_count": null,
   "metadata": {},
   "outputs": [],
   "source": []
  }
 ],
 "metadata": {
  "kernelspec": {
   "display_name": "Python 3",
   "language": "python",
   "name": "python3"
  },
  "language_info": {
   "codemirror_mode": {
    "name": "ipython",
    "version": 3
   },
   "file_extension": ".py",
   "mimetype": "text/x-python",
   "name": "python",
   "nbconvert_exporter": "python",
   "pygments_lexer": "ipython3",
   "version": "3.6.9"
  }
 },
 "nbformat": 4,
 "nbformat_minor": 4
}
